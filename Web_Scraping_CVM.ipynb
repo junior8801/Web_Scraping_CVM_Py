{
  "nbformat": 4,
  "nbformat_minor": 0,
  "metadata": {
    "colab": {
      "name": "Web_Scraping_CVM.ipynb",
      "provenance": [],
      "collapsed_sections": [],
      "toc_visible": true,
      "authorship_tag": "ABX9TyOGs5uSMTPrm47N2zSFwGrc",
      "include_colab_link": true
    },
    "kernelspec": {
      "name": "python3",
      "display_name": "Python 3"
    },
    "language_info": {
      "name": "python"
    }
  },
  "cells": [
    {
      "cell_type": "markdown",
      "metadata": {
        "id": "view-in-github",
        "colab_type": "text"
      },
      "source": [
        "<a href=\"https://colab.research.google.com/github/junior8801/Web_Scraping_CVM_Py/blob/main/Web_Scraping_CVM.ipynb\" target=\"_parent\"><img src=\"https://colab.research.google.com/assets/colab-badge.svg\" alt=\"Open In Colab\"/></a>"
      ]
    },
    {
      "cell_type": "markdown",
      "metadata": {
        "id": "AG3s5WBC-03X"
      },
      "source": [
        "#Web Scraping Dados de Demonstrativos Finaceiros Fonte CVM"
      ]
    },
    {
      "cell_type": "markdown",
      "metadata": {
        "id": "fnjcAB8k_V_7"
      },
      "source": [
        "Fonte: dados.cvm.gov.br "
      ]
    },
    {
      "cell_type": "markdown",
      "metadata": {
        "id": "DuMXYtrO_PTp"
      },
      "source": [
        "Bibliotecas"
      ]
    },
    {
      "cell_type": "code",
      "metadata": {
        "colab": {
          "base_uri": "https://localhost:8080/"
        },
        "id": "1hZaqSml_fGK",
        "outputId": "7ec7a106-4c42-4663-de2f-c867e6ffd977"
      },
      "source": [
        "!pip install wget"
      ],
      "execution_count": 1,
      "outputs": [
        {
          "output_type": "stream",
          "text": [
            "Collecting wget\n",
            "  Downloading https://files.pythonhosted.org/packages/47/6a/62e288da7bcda82b935ff0c6cfe542970f04e29c756b0e147251b2fb251f/wget-3.2.zip\n",
            "Building wheels for collected packages: wget\n",
            "  Building wheel for wget (setup.py) ... \u001b[?25l\u001b[?25hdone\n",
            "  Created wheel for wget: filename=wget-3.2-cp37-none-any.whl size=9681 sha256=ee9930bc7cb6490b801cec8602cfaf8ad31946a8bbb3114bd814ae9db93b19b5\n",
            "  Stored in directory: /root/.cache/pip/wheels/40/15/30/7d8f7cea2902b4db79e3fea550d7d7b85ecb27ef992b618f3f\n",
            "Successfully built wget\n",
            "Installing collected packages: wget\n",
            "Successfully installed wget-3.2\n"
          ],
          "name": "stdout"
        }
      ]
    },
    {
      "cell_type": "code",
      "metadata": {
        "id": "-ruK-edz_E1K"
      },
      "source": [
        "import pandas as pd\n",
        "import wget\n",
        "from zipfile import ZipFile "
      ],
      "execution_count": 3,
      "outputs": []
    },
    {
      "cell_type": "markdown",
      "metadata": {
        "id": "Dq4upJcF_1bN"
      },
      "source": [
        "Baixar arquivos"
      ]
    },
    {
      "cell_type": "markdown",
      "metadata": {
        "id": "O6O-fKJ8B5k5"
      },
      "source": [
        "URL"
      ]
    },
    {
      "cell_type": "code",
      "metadata": {
        "id": "7wvWOqvZ_sdV"
      },
      "source": [
        "url_base = \"http://dados.cvm.gov.br/dados/CIA_ABERTA/DOC/ITR/DADOS/\""
      ],
      "execution_count": 5,
      "outputs": []
    },
    {
      "cell_type": "markdown",
      "metadata": {
        "id": "eIqNCv8QB7hu"
      },
      "source": [
        "Gerar os nomes dos arquivos"
      ]
    },
    {
      "cell_type": "code",
      "metadata": {
        "colab": {
          "base_uri": "https://localhost:8080/"
        },
        "id": "mPpEJBv5AQaU",
        "outputId": "9bb71bdd-b063-48a4-b9d6-eae37ebc3758"
      },
      "source": [
        "arquivos_zip = []\n",
        "for ano in range(2011,2021):\n",
        "  arquivos_zip.append(f'itr_cia_aberta_{ano}.zip')\n",
        "arquivos_zip"
      ],
      "execution_count": 4,
      "outputs": [
        {
          "output_type": "execute_result",
          "data": {
            "text/plain": [
              "['itr_cia_aberta_2011.zip',\n",
              " 'itr_cia_aberta_2012.zip',\n",
              " 'itr_cia_aberta_2013.zip',\n",
              " 'itr_cia_aberta_2014.zip',\n",
              " 'itr_cia_aberta_2015.zip',\n",
              " 'itr_cia_aberta_2016.zip',\n",
              " 'itr_cia_aberta_2017.zip',\n",
              " 'itr_cia_aberta_2018.zip',\n",
              " 'itr_cia_aberta_2019.zip',\n",
              " 'itr_cia_aberta_2020.zip']"
            ]
          },
          "metadata": {
            "tags": []
          },
          "execution_count": 4
        }
      ]
    },
    {
      "cell_type": "markdown",
      "metadata": {
        "id": "QtFYRZWUB_Q2"
      },
      "source": [
        "Download dos arquivos"
      ]
    },
    {
      "cell_type": "code",
      "metadata": {
        "id": "VFlAK8TIBZ4n"
      },
      "source": [
        "for arq in arquivos_zip:\n",
        "  wget.download(url_base+arq)"
      ],
      "execution_count": 7,
      "outputs": []
    },
    {
      "cell_type": "markdown",
      "metadata": {
        "id": "Wk-5q7k_CDxi"
      },
      "source": [
        "Descompactar arquivos"
      ]
    },
    {
      "cell_type": "code",
      "metadata": {
        "id": "HNtfuaxOCLxY"
      },
      "source": [
        "for arq in arquivos_zip:\n",
        "  ZipFile(arq, 'r').extractall('CVM')"
      ],
      "execution_count": 8,
      "outputs": []
    },
    {
      "cell_type": "markdown",
      "metadata": {
        "id": "9RvQ7AotCeY9"
      },
      "source": [
        "Consolidar arquivos"
      ]
    },
    {
      "cell_type": "code",
      "metadata": {
        "id": "o9x8e2prCbSD"
      },
      "source": [
        "nomes = ['BPA_con','BPA_ind','BPP_con','BPP_ind','DFC_MD_con','DFC_MD_ind','DFC_MI_con','DFC_MI_ind','DMPL_con','DMPL_ind','DRE_con','DRE_ind','DVA_con','DVA_ind']\n",
        "for nome in nomes:\n",
        "  arquivo = pd.DataFrame()\n",
        "  for ano in range(2011,2020):\n",
        "    arquivo = pd.concat([arquivo, pd.read_csv(f'CVM/itr_cia_aberta_{nome}_{ano}.csv',sep=';',decimal=',',encoding='ISO-8859-1')])\n",
        "  arquivo.to_csv(f'itr_cia_aberta_{nome}_2011_2020',index=False)"
      ],
      "execution_count": 9,
      "outputs": []
    },
    {
      "cell_type": "code",
      "metadata": {
        "colab": {
          "base_uri": "https://localhost:8080/",
          "height": 520
        },
        "id": "QNcfDEMLE5Pk",
        "outputId": "95d2f5d1-06bb-47e2-e60f-75ba85e0a62b"
      },
      "source": [
        "dre = pd.read_csv('itr_cia_aberta_DRE_con_2011_2020')\n",
        "dre.head()"
      ],
      "execution_count": 10,
      "outputs": [
        {
          "output_type": "execute_result",
          "data": {
            "text/html": [
              "<div>\n",
              "<style scoped>\n",
              "    .dataframe tbody tr th:only-of-type {\n",
              "        vertical-align: middle;\n",
              "    }\n",
              "\n",
              "    .dataframe tbody tr th {\n",
              "        vertical-align: top;\n",
              "    }\n",
              "\n",
              "    .dataframe thead th {\n",
              "        text-align: right;\n",
              "    }\n",
              "</style>\n",
              "<table border=\"1\" class=\"dataframe\">\n",
              "  <thead>\n",
              "    <tr style=\"text-align: right;\">\n",
              "      <th></th>\n",
              "      <th>CNPJ_CIA</th>\n",
              "      <th>DT_REFER</th>\n",
              "      <th>VERSAO</th>\n",
              "      <th>DENOM_CIA</th>\n",
              "      <th>CD_CVM</th>\n",
              "      <th>GRUPO_DFP</th>\n",
              "      <th>MOEDA</th>\n",
              "      <th>ESCALA_MOEDA</th>\n",
              "      <th>ORDEM_EXERC</th>\n",
              "      <th>DT_INI_EXERC</th>\n",
              "      <th>DT_FIM_EXERC</th>\n",
              "      <th>CD_CONTA</th>\n",
              "      <th>DS_CONTA</th>\n",
              "      <th>VL_CONTA</th>\n",
              "      <th>ST_CONTA_FIXA</th>\n",
              "    </tr>\n",
              "  </thead>\n",
              "  <tbody>\n",
              "    <tr>\n",
              "      <th>0</th>\n",
              "      <td>00.001.180/0001-26</td>\n",
              "      <td>2011-03-31</td>\n",
              "      <td>1</td>\n",
              "      <td>CENTRAIS ELET BRAS S.A. - ELETROBRAS</td>\n",
              "      <td>2437</td>\n",
              "      <td>DF Consolidado - Demonstração do Resultado</td>\n",
              "      <td>REAL</td>\n",
              "      <td>MIL</td>\n",
              "      <td>PENÚLTIMO</td>\n",
              "      <td>2010-01-01</td>\n",
              "      <td>2010-03-31</td>\n",
              "      <td>3.01</td>\n",
              "      <td>Receita de Venda de Bens e/ou Serviços</td>\n",
              "      <td>6159172.0</td>\n",
              "      <td>S</td>\n",
              "    </tr>\n",
              "    <tr>\n",
              "      <th>1</th>\n",
              "      <td>00.001.180/0001-26</td>\n",
              "      <td>2011-03-31</td>\n",
              "      <td>1</td>\n",
              "      <td>CENTRAIS ELET BRAS S.A. - ELETROBRAS</td>\n",
              "      <td>2437</td>\n",
              "      <td>DF Consolidado - Demonstração do Resultado</td>\n",
              "      <td>REAL</td>\n",
              "      <td>MIL</td>\n",
              "      <td>ÚLTIMO</td>\n",
              "      <td>2011-01-01</td>\n",
              "      <td>2011-03-31</td>\n",
              "      <td>3.01</td>\n",
              "      <td>Receita de Venda de Bens e/ou Serviços</td>\n",
              "      <td>8551982.0</td>\n",
              "      <td>S</td>\n",
              "    </tr>\n",
              "    <tr>\n",
              "      <th>2</th>\n",
              "      <td>00.001.180/0001-26</td>\n",
              "      <td>2011-03-31</td>\n",
              "      <td>1</td>\n",
              "      <td>CENTRAIS ELET BRAS S.A. - ELETROBRAS</td>\n",
              "      <td>2437</td>\n",
              "      <td>DF Consolidado - Demonstração do Resultado</td>\n",
              "      <td>REAL</td>\n",
              "      <td>MIL</td>\n",
              "      <td>PENÚLTIMO</td>\n",
              "      <td>2010-01-01</td>\n",
              "      <td>2010-03-31</td>\n",
              "      <td>3.02</td>\n",
              "      <td>Custo dos Bens e/ou Serviços Vendidos</td>\n",
              "      <td>-960060.0</td>\n",
              "      <td>S</td>\n",
              "    </tr>\n",
              "    <tr>\n",
              "      <th>3</th>\n",
              "      <td>00.001.180/0001-26</td>\n",
              "      <td>2011-03-31</td>\n",
              "      <td>1</td>\n",
              "      <td>CENTRAIS ELET BRAS S.A. - ELETROBRAS</td>\n",
              "      <td>2437</td>\n",
              "      <td>DF Consolidado - Demonstração do Resultado</td>\n",
              "      <td>REAL</td>\n",
              "      <td>MIL</td>\n",
              "      <td>ÚLTIMO</td>\n",
              "      <td>2011-01-01</td>\n",
              "      <td>2011-03-31</td>\n",
              "      <td>3.02</td>\n",
              "      <td>Custo dos Bens e/ou Serviços Vendidos</td>\n",
              "      <td>-1127021.0</td>\n",
              "      <td>S</td>\n",
              "    </tr>\n",
              "    <tr>\n",
              "      <th>4</th>\n",
              "      <td>00.001.180/0001-26</td>\n",
              "      <td>2011-03-31</td>\n",
              "      <td>1</td>\n",
              "      <td>CENTRAIS ELET BRAS S.A. - ELETROBRAS</td>\n",
              "      <td>2437</td>\n",
              "      <td>DF Consolidado - Demonstração do Resultado</td>\n",
              "      <td>REAL</td>\n",
              "      <td>MIL</td>\n",
              "      <td>PENÚLTIMO</td>\n",
              "      <td>2010-01-01</td>\n",
              "      <td>2010-03-31</td>\n",
              "      <td>3.02.01</td>\n",
              "      <td>Encargos Setoriais</td>\n",
              "      <td>-340660.0</td>\n",
              "      <td>N</td>\n",
              "    </tr>\n",
              "  </tbody>\n",
              "</table>\n",
              "</div>"
            ],
            "text/plain": [
              "             CNPJ_CIA    DT_REFER  ...   VL_CONTA ST_CONTA_FIXA\n",
              "0  00.001.180/0001-26  2011-03-31  ...  6159172.0             S\n",
              "1  00.001.180/0001-26  2011-03-31  ...  8551982.0             S\n",
              "2  00.001.180/0001-26  2011-03-31  ...  -960060.0             S\n",
              "3  00.001.180/0001-26  2011-03-31  ... -1127021.0             S\n",
              "4  00.001.180/0001-26  2011-03-31  ...  -340660.0             N\n",
              "\n",
              "[5 rows x 15 columns]"
            ]
          },
          "metadata": {
            "tags": []
          },
          "execution_count": 10
        }
      ]
    },
    {
      "cell_type": "code",
      "metadata": {
        "id": "-DXenOTDGRtX"
      },
      "source": [
        ""
      ],
      "execution_count": null,
      "outputs": []
    }
  ]
}